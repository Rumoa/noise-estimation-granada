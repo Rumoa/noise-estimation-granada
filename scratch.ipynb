{
 "cells": [
  {
   "cell_type": "code",
   "execution_count": 1,
   "metadata": {},
   "outputs": [],
   "source": [
    "%reload_ext autoreload\n",
    "%autoreload 2"
   ]
  },
  {
   "cell_type": "code",
   "execution_count": 8,
   "metadata": {},
   "outputs": [],
   "source": [
    "import equinox as eqx\n",
    "import jax\n",
    "import jax.numpy as jnp\n",
    "import numpy as np\n",
    "import qutip as qu\n",
    "from jax.scipy.linalg import expm\n",
    "\n",
    "from some_functions import *\n",
    "from some_functions import (\n",
    "    _make_superop_hamiltonian,\n",
    "    _make_dissipator,\n",
    "    _make_pauli_dissipator,\n",
    "    generate_hamiltonian_one_qubit,\n",
    "    generate_hermitian_matrix,\n",
    "    _Pauli_dissipators_array\n",
    ")\n",
    "\n",
    "# Number of real parametes hermitian matrix: n**2 (n is dim)"
   ]
  },
  {
   "cell_type": "code",
   "execution_count": 9,
   "metadata": {},
   "outputs": [],
   "source": [
    "key = jax.random.key(seed=0)\n",
    "key, subkey = jax.random.split(key)"
   ]
  },
  {
   "cell_type": "code",
   "execution_count": 10,
   "metadata": {},
   "outputs": [
    {
     "name": "stdout",
     "output_type": "stream",
     "text": [
      "[[ 0.20480433+0.j         -0.5412418 +0.8710841j  -0.5412419 -0.8710841j\n",
      "   0.97443646+0.j        ]\n",
      " [ 2.0635958 +0.01971477j -1.1999061 -0.6452427j   0.15700915-0.65097016j\n",
      "  -0.11242938-0.00890517j]\n",
      " [ 2.0635958 -0.01971471j  0.15700915+0.65097016j -1.1999061 +0.6452427j\n",
      "  -0.11242938+0.00890511j]\n",
      " [-0.20480433+0.j          0.5412418 -0.8710841j   0.5412419 +0.8710841j\n",
      "  -0.97443646+0.j        ]]\n"
     ]
    }
   ],
   "source": [
    "example_initial_pars = jax.random.uniform(subkey, shape=(12,))\n",
    "\n",
    "pars = OneQubitParameters(2, example_initial_pars)\n",
    "\n",
    "hamiltonian = generate_hamiltonian_one_qubit(\n",
    "    pars.hamiltonian_pars, generators_traceless_hermitian\n",
    ")\n",
    "\n",
    "dissipator_matrix = generate_hermitian_matrix(\n",
    "    pars.dissipator_pars, generators_hermitian_3d_matrices\n",
    ")\n",
    "\n",
    "hamiltonian_superop = _make_superop_hamiltonian(hamiltonian)\n",
    "\n",
    "dissipator = _make_dissipator(dissipator_matrix, _Pauli_dissipators_array)\n",
    "\n",
    "lindbladian = hamiltonian_superop + dissipator\n",
    "print(lindbladian)"
   ]
  },
  {
   "cell_type": "code",
   "execution_count": 11,
   "metadata": {},
   "outputs": [
    {
     "data": {
      "text/plain": [
       "array([ True,  True,  True,  True,  True,  True])"
      ]
     },
     "execution_count": 11,
     "metadata": {},
     "output_type": "execute_result"
    }
   ],
   "source": [
    "initial_rho = qu.rand_dm(2, seed=128)\n",
    "initial_rho_super = initial_rho.full().flatten()\n",
    "\n",
    "qutip_povm = [\n",
    "    [\n",
    "        qu.identity(2) + qu.sigmax(),\n",
    "        qu.identity(2) - qu.sigmax(),\n",
    "    ],\n",
    "    [\n",
    "        qu.identity(2) + qu.sigmay(),\n",
    "        qu.identity(2) - qu.sigmay(),\n",
    "    ],\n",
    "    [\n",
    "        qu.identity(2) + qu.sigmaz(),\n",
    "        qu.identity(2) - qu.sigmaz(),\n",
    "    ],\n",
    "]\n",
    "\n",
    "probs_qu = []\n",
    "for i in range(3):\n",
    "    for j in range(2):\n",
    "        probs_qu.append(qu.expect(qutip_povm[i][j], initial_rho))\n",
    "\n",
    "probs_qu = np.array(probs_qu) / 2\n",
    "\n",
    "\n",
    "probs_mine = []\n",
    "for i in range(3):\n",
    "    for j in range(2):\n",
    "        probs_mine.append(\n",
    "            compute_probability(initial_rho_super, pauli_projective_povm[i, j].flatten())\n",
    "        )\n",
    "\n",
    "probs_mine = np.array(probs_mine)\n",
    "\n",
    "np.isclose(probs_mine, probs_qu)"
   ]
  },
  {
   "cell_type": "code",
   "execution_count": 155,
   "metadata": {},
   "outputs": [],
   "source": [
    "# Testing the generation of the exponential"
   ]
  },
  {
   "cell_type": "code",
   "execution_count": 156,
   "metadata": {},
   "outputs": [
    {
     "data": {
      "text/plain": [
       "array([ True,  True,  True,  True])"
      ]
     },
     "execution_count": 156,
     "metadata": {},
     "output_type": "execute_result"
    }
   ],
   "source": [
    "qu_lindbladian = qu.rand_super(2, seed=0)\n",
    "jax_lindbladian = qu_lindbladian.full()\n",
    "\n",
    "time = 3.5\n",
    "evolved_state_qu = ((time*qu_lindbladian).expm()*qu.operator_to_vector(initial_rho)).full()\n",
    "\n",
    "evolved_state_jax = evolve_state(jax_lindbladian, time, initial_rho.full().flatten(order='F'))\n",
    "\n",
    "np.isclose(evolved_state_qu.squeeze(), evolved_state_jax.squeeze())"
   ]
  },
  {
   "cell_type": "code",
   "execution_count": 157,
   "metadata": {},
   "outputs": [],
   "source": [
    "# Testing generation of the Lindbladian"
   ]
  },
  {
   "cell_type": "code",
   "execution_count": null,
   "metadata": {},
   "outputs": [],
   "source": []
  }
 ],
 "metadata": {
  "kernelspec": {
   "display_name": "jax-gr",
   "language": "python",
   "name": "python3"
  },
  "language_info": {
   "codemirror_mode": {
    "name": "ipython",
    "version": 3
   },
   "file_extension": ".py",
   "mimetype": "text/x-python",
   "name": "python",
   "nbconvert_exporter": "python",
   "pygments_lexer": "ipython3",
   "version": "3.12.6"
  }
 },
 "nbformat": 4,
 "nbformat_minor": 2
}
