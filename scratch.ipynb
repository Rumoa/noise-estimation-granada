{
 "cells": [
  {
   "cell_type": "code",
   "execution_count": 72,
   "metadata": {},
   "outputs": [],
   "source": [
    "%reload_ext autoreload\n",
    "%autoreload 2"
   ]
  },
  {
   "cell_type": "code",
   "execution_count": 74,
   "metadata": {},
   "outputs": [],
   "source": [
    "import equinox as eqx\n",
    "import jax\n",
    "import jax.numpy as jnp\n",
    "import numpy as np\n",
    "import qutip as qu\n",
    "from jax.scipy.linalg import expm\n",
    "\n",
    "from some_functions import _G, _dag, _spost, _spre, _sprepost, canonical_povm\n",
    "\n",
    "# Number of real parametes hermitian matrix: n**2 (n is dim)"
   ]
  },
  {
   "cell_type": "code",
   "execution_count": 43,
   "metadata": {},
   "outputs": [],
   "source": [
    "def _make_pauli_dissipator(A, B):\n",
    "    return _sprepost(A, B) - 0.5 * (_spre(A @ B) + _spost(A @ B))\n",
    "\n",
    "\n",
    "dissipators_list = []\n",
    "for g_i in _G[1:]:\n",
    "    aux_list = []\n",
    "    for g_j in _G[1:]:\n",
    "        aux_list.append(_make_pauli_dissipator(g_i, g_j))\n",
    "    dissipators_list.append(aux_list)\n",
    "\n",
    "_Pauli_dissipators_array = jnp.array(dissipators_list, jnp.complex64)"
   ]
  },
  {
   "cell_type": "code",
   "execution_count": 4,
   "metadata": {},
   "outputs": [],
   "source": [
    "generators_traceless_hermitian = jnp.array(\n",
    "    [qu.sigmax().full(), qu.sigmay().full(), qu.sigmaz().full()]\n",
    ")\n",
    "\n",
    "generators_hermitian_3d_matrices = np.array(\n",
    "    [\n",
    "        np.array([[1, 0, 0], [0, 0, 0], [0, 0, 0]]),\n",
    "        np.array([[0, 0, 0], [0, 1, 0], [0, 0, 0]]),\n",
    "        np.array([[0, 0, 0], [0, 0, 0], [0, 0, 1]]),\n",
    "        np.array([[0, 1, 0], [1, 0, 0], [0, 0, 0]]),\n",
    "        np.array([[0, 0, 1], [0, 0, 0], [1, 0, 0]]),\n",
    "        np.array([[0, 0, 0], [0, 0, 1], [0, 1, 0]]),\n",
    "        1j * np.array([[0, -1, 0], [1, 0, 0], [0, 0, 0]]),\n",
    "        1j * np.array([[0, 0, -1], [0, 0, 0], [1, 0, 0]]),\n",
    "        1j * np.array([[0, 0, 0], [0, 0, -1], [0, 1, 0]]),\n",
    "    ]\n",
    ")\n"
   ]
  },
  {
   "cell_type": "code",
   "execution_count": 107,
   "metadata": {},
   "outputs": [],
   "source": [
    "from jax.experimental import checkify\n",
    "\n",
    "\n",
    "class OneQubitParameters(eqx.Module):\n",
    "    d: int\n",
    "    N: int\n",
    "    parameters: jnp.array\n",
    "\n",
    "    def __init__(self, dimension_system, pars):\n",
    "        self.d = dimension_system\n",
    "        self.N = self.d**2\n",
    "        self.parameters = self.set_pars(pars)\n",
    "\n",
    "    @property\n",
    "    def n_indep_hamiltonian(self):\n",
    "        return self.d**2 - 1\n",
    "\n",
    "    @property\n",
    "    def n_indep_dissipator(self):\n",
    "        return (self.N - 1) ** 2\n",
    "\n",
    "    def set_pars(self, pars):\n",
    "        parameters = jnp.zeros([self.n_indep_dissipator + self.n_indep_hamiltonian])\n",
    "        parameters = parameters.at[:].set(pars)\n",
    "        return parameters\n",
    "\n",
    "    @property\n",
    "    def hamiltonian_pars(self):\n",
    "        return self.parameters[0 : self.n_indep_hamiltonian]\n",
    "\n",
    "    @property\n",
    "    def dissipator_pars(self):\n",
    "        return self.parameters[self.n_indep_hamiltonian :]\n",
    "\n",
    "\n",
    "@jax.jit\n",
    "def generate_hamiltonian_one_qubit(\n",
    "    hamiltonian_parameters, generators_traceless_hermitian\n",
    "):\n",
    "    return jnp.einsum(\"i, ijk\", hamiltonian_parameters, generators_traceless_hermitian)\n",
    "\n",
    "\n",
    "@jax.jit\n",
    "def generate_hermitian_matrix(parameters, generators_hermitian):\n",
    "    return jnp.einsum(\"i, ijk\", parameters, generators_hermitian)\n",
    "\n",
    "\n",
    "def _make_dissipator(dissipator_matrix, pauli_dissipators):\n",
    "    return jnp.einsum(\"ij, ijmn-> mn\", dissipator_matrix, pauli_dissipators)\n",
    "\n",
    "\n",
    "def _make_superop_hamiltonian(hamiltonian_matrix, hbar=1):\n",
    "    return -1j / hbar * (_spre(hamiltonian_matrix) - _spost(hamiltonian_matrix))\n",
    "\n",
    "\n",
    "is_probability_correct = lambda p: jnp.logical_and((p >= 0.0), (p <= 1.0))\n",
    "trim_invalid_probs = lambda prob_array: jnp.where(\n",
    "    is_probability_correct(prob_array), prob_array, jnp.abs(prob_array) * 0\n",
    ")\n",
    "\n",
    "trim_nan_probs = lambda prob_array: jnp.where(\n",
    "    ~jnp.isnan(prob_array), prob_array, jnp.abs(prob_array) * 0\n",
    ")\n",
    "\n",
    "\n",
    "def clean_probabilities(prob_array):\n",
    "    return trim_nan_probs(trim_invalid_probs(prob_array))\n",
    "\n",
    "\n",
    "def evolve_state(lindbladian, time, rho_super):\n",
    "    return expm(lindbladian * time) @ rho_super\n",
    "\n",
    "\n",
    "def compute_probability(rho_super, povm_super):\n",
    "    return clean_probabilities(jnp.dot(_dag(rho_super), povm_super)).real\n"
   ]
  },
  {
   "cell_type": "code",
   "execution_count": 13,
   "metadata": {},
   "outputs": [],
   "source": [
    "key = jax.random.key(seed=0)\n",
    "key, subkey = jax.random.split(key)"
   ]
  },
  {
   "cell_type": "code",
   "execution_count": 62,
   "metadata": {},
   "outputs": [
    {
     "name": "stdout",
     "output_type": "stream",
     "text": [
      "[[-0.97443646+0.j         -1.516825  +0.876489j   -1.516825  -0.8764889j\n",
      "   0.97443646+0.j        ]\n",
      " [ 1.0880125 +0.01430997j -1.1999061 -0.6452427j   0.15700915-0.65097016j\n",
      "  -1.0880125 -0.01430997j]\n",
      " [ 1.0880125 -0.01430997j  0.15700915+0.65097016j -1.1999061 +0.6452427j\n",
      "  -1.0880125 +0.01430997j]\n",
      " [-0.20480433+0.j         -0.4343413 -0.8656794j  -0.4343413 +0.8656793j\n",
      "   0.20480433+0.j        ]]\n"
     ]
    }
   ],
   "source": [
    "example_initial_pars = jax.random.uniform(subkey, shape=(12,))\n",
    "\n",
    "pars = OneQubitParameters(2, example_initial_pars)\n",
    "\n",
    "hamiltonian = generate_hamiltonian_one_qubit(\n",
    "    pars.hamiltonian_pars, generators_traceless_hermitian\n",
    ")\n",
    "\n",
    "dissipator_matrix = generate_hermitian_matrix(\n",
    "    pars.dissipator_pars, generators_hermitian_3d_matrices\n",
    ")\n",
    "\n",
    "hamiltonian_superop = _make_superop_hamiltonian(hamiltonian)\n",
    "\n",
    "dissipator = _make_dissipator(dissipator_matrix, _Pauli_dissipators_array)\n",
    "\n",
    "lindbladian = hamiltonian_superop + dissipator\n",
    "print(lindbladian)"
   ]
  },
  {
   "cell_type": "code",
   "execution_count": 110,
   "metadata": {},
   "outputs": [
    {
     "data": {
      "text/plain": [
       "array([ True,  True,  True,  True,  True,  True])"
      ]
     },
     "execution_count": 110,
     "metadata": {},
     "output_type": "execute_result"
    }
   ],
   "source": [
    "initial_rho = qu.rand_dm(2, seed=128)\n",
    "initial_rho_super = initial_rho.full().flatten()\n",
    "\n",
    "qutip_povm = [\n",
    "    [\n",
    "        qu.identity(2) + qu.sigmax(),\n",
    "        qu.identity(2) - qu.sigmax(),\n",
    "    ],\n",
    "    [\n",
    "        qu.identity(2) + qu.sigmay(),\n",
    "        qu.identity(2) - qu.sigmay(),\n",
    "    ],\n",
    "    [\n",
    "        qu.identity(2) + qu.sigmaz(),\n",
    "        qu.identity(2) - qu.sigmaz(),\n",
    "    ],\n",
    "]\n",
    "\n",
    "probs_qu = []\n",
    "for i in range(3):\n",
    "    for j in range(2):\n",
    "        probs_qu.append(qu.expect(qutip_povm[i][j], initial_rho))\n",
    "\n",
    "probs_qu = np.array(probs_qu) / 2\n",
    "\n",
    "\n",
    "probs_mine = []\n",
    "for i in range(3):\n",
    "    for j in range(2):\n",
    "        probs_mine.append(\n",
    "            compute_probability(initial_rho_super, canonical_povm[i, j].flatten())\n",
    "        )\n",
    "\n",
    "probs_mine = np.array(probs_mine)\n",
    "\n",
    "np.isclose(probs_mine, probs_qu)"
   ]
  }
 ],
 "metadata": {
  "kernelspec": {
   "display_name": "jax-gr",
   "language": "python",
   "name": "python3"
  },
  "language_info": {
   "codemirror_mode": {
    "name": "ipython",
    "version": 3
   },
   "file_extension": ".py",
   "mimetype": "text/x-python",
   "name": "python",
   "nbconvert_exporter": "python",
   "pygments_lexer": "ipython3",
   "version": "3.12.6"
  }
 },
 "nbformat": 4,
 "nbformat_minor": 2
}
