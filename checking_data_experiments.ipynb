{
 "cells": [
  {
   "cell_type": "code",
   "execution_count": 1,
   "metadata": {},
   "outputs": [],
   "source": [
    "%reload_ext autoreload\n",
    "%autoreload 2"
   ]
  },
  {
   "cell_type": "code",
   "execution_count": 8,
   "metadata": {},
   "outputs": [],
   "source": [
    "import jax\n",
    "import jax.numpy as jnp\n",
    "import numpy as np\n",
    "import qutip as qu\n",
    "\n",
    "from data import Data\n",
    "from experiments import ExperimentOneQubitTomography"
   ]
  },
  {
   "cell_type": "code",
   "execution_count": 3,
   "metadata": {},
   "outputs": [],
   "source": [
    "key = jax.random.key(seed=0)\n",
    "key, subkey = jax.random.split(key)"
   ]
  },
  {
   "cell_type": "code",
   "execution_count": 4,
   "metadata": {},
   "outputs": [],
   "source": [
    "no_experiments = 500\n",
    "\n",
    "initial_states = jax.random.choice(subkey, a=jnp.arange(4), shape=(no_experiments,))\n",
    "\n",
    "key, subkey = jax.random.split(key)\n",
    "measurement_basis = jax.random.choice(subkey, a=jnp.arange(3), shape=(no_experiments,))\n",
    "\n",
    "key, subkey = jax.random.split(key)\n",
    "outcomes = jax.random.choice(subkey, a=jnp.arange(2), shape=(no_experiments,))\n",
    "\n",
    "key, subkey = jax.random.split(key)\n",
    "times = jax.random.uniform(subkey, shape=(no_experiments,), minval=0, maxval=23.0)"
   ]
  },
  {
   "cell_type": "code",
   "execution_count": 5,
   "metadata": {},
   "outputs": [],
   "source": [
    "experiments = ExperimentOneQubitTomography(times, initial_states, outcomes)\n",
    "data = Data(experiments, outcomes)"
   ]
  },
  {
   "cell_type": "code",
   "execution_count": 6,
   "metadata": {},
   "outputs": [
    {
     "name": "stdout",
     "output_type": "stream",
     "text": [
      "Experiment: Time [19.670788]\n",
      "Initial state [3]\n",
      "Measurement basis [0] \n",
      "outcome: [0]\n"
     ]
    }
   ],
   "source": [
    "print(Data(experiments, outcomes)[34])"
   ]
  },
  {
   "cell_type": "code",
   "execution_count": 7,
   "metadata": {},
   "outputs": [
    {
     "data": {
      "text/plain": [
       "Array([21.659256  ,  8.946924  ,  5.168275  ,  2.8279095 , 12.376248  ,\n",
       "       17.427198  ,  6.486207  , 16.328367  , 19.101318  ,  5.7807083 ,\n",
       "       10.375083  ,  7.2965503 ,  0.67727184,  3.5101905 , 13.456909  ,\n",
       "       20.552803  , 13.75807   , 19.250679  , 12.603158  , 16.941072  ,\n",
       "       14.741426  ,  5.618245  ,  0.4464413 , 18.88208   ,  7.3296633 ,\n",
       "       22.5204    ,  3.3687787 ,  1.7993042 , 12.539093  , 21.35176   ,\n",
       "        4.8376203 , 10.229603  , 14.25875   , 21.589403  , 19.670788  ,\n",
       "       12.888397  , 11.236268  , 15.295279  ,  6.808299  , 20.17367   ,\n",
       "        1.698751  , 16.939709  , 18.539524  , 19.318773  ,  7.367138  ,\n",
       "       16.954699  ,  8.957796  ,  3.3474858 , 10.130445  , 19.010181  ,\n",
       "        0.02316284, 20.558643  ,  7.482577  , 21.13469   , 17.599424  ,\n",
       "        1.1015812 , 11.865004  , 13.9847355 , 13.292115  , 10.910601  ,\n",
       "        0.9375714 ,  6.0560465 , 14.333798  ,  7.3269567 ,  5.0104284 ,\n",
       "       12.419705  ,  1.5937093 ,  3.9072928 , 10.936969  , 10.655644  ,\n",
       "        5.8773794 , 15.620729  , 22.455671  , 17.392551  , 14.079687  ,\n",
       "        9.6067505 , 14.310036  , 10.198384  , 15.418126  , 19.920938  ,\n",
       "       15.373061  ,  3.6080322 ,  4.756548  ,  6.5713296 ,  8.677786  ,\n",
       "       12.523412  , 22.279915  , 19.271196  ,  6.912888  , 20.065258  ,\n",
       "       17.609118  , 15.856158  , 22.83721   , 14.277117  , 19.560818  ,\n",
       "        6.377289  ,  0.27553856, 12.477678  ,  0.06503308, 15.746027  ,\n",
       "       18.277275  , 10.709141  , 19.49304   , 15.704434  , 20.468124  ,\n",
       "       17.283514  ,  3.4934406 , 12.812602  , 20.992985  , 13.799452  ,\n",
       "       22.24094   ,  1.7797332 , 10.215326  ,  6.297326  ,  0.40854943,\n",
       "        0.0468713 , 21.613323  , 19.007084  , 16.949997  , 13.883673  ,\n",
       "       10.968689  ,  6.2415223 ,  0.9774922 , 22.063835  , 15.580943  ,\n",
       "       19.781952  ,  6.5550265 ,  8.970707  , 10.248085  , 22.439165  ,\n",
       "        1.969017  , 16.157011  , 13.472889  ,  3.385087  , 12.291871  ,\n",
       "       11.783956  , 19.70914   , 14.385306  , 20.938112  ,  6.491008  ,\n",
       "       16.300259  ,  2.3271198 , 16.48852   ,  9.765128  , 17.634977  ,\n",
       "        5.423195  , 19.669195  ,  0.37777805,  4.6281266 , 12.326615  ,\n",
       "       21.624975  , 15.045529  ,  4.53244   , 14.938103  , 16.65093   ,\n",
       "        2.370254  ,  7.763111  , 10.939875  ,  4.7072005 , 13.827589  ,\n",
       "        5.9055157 , 16.161322  ,  6.6698346 ,  5.0602336 , 10.917582  ,\n",
       "        6.1507025 , 20.323494  , 14.082081  ,  8.721076  , 18.18738   ,\n",
       "       15.724683  , 11.599087  , 10.068937  , 10.676184  , 11.043762  ,\n",
       "        2.4317555 , 10.4206    , 11.477975  ,  6.351477  , 21.468996  ,\n",
       "       19.802431  ,  3.2438288 , 16.339018  ,  6.4827633 ,  6.4823575 ,\n",
       "        2.5051103 , 18.533493  ,  7.992357  ,  9.737049  ,  2.5881872 ,\n",
       "        2.9871483 , 15.840848  , 18.451347  , 10.355517  , 11.133938  ,\n",
       "       14.432403  , 21.926355  , 15.893178  , 14.400296  , 15.752152  ,\n",
       "       16.566427  , 22.414576  ,  7.6264153 , 10.626946  , 22.040987  ,\n",
       "       16.021933  ,  6.1225986 , 12.517106  , 14.084008  , 14.695307  ,\n",
       "       18.729841  ,  3.1802487 , 21.02637   , 15.196025  ,  8.341631  ,\n",
       "        6.5389323 , 22.211418  , 15.741024  ,  9.35379   , 10.676833  ,\n",
       "        5.4812393 , 11.615973  ,  3.4447737 , 16.706871  , 22.547297  ,\n",
       "       20.993074  ,  3.1184373 , 14.102085  , 15.224361  , 15.429282  ,\n",
       "       16.119541  , 21.183891  , 10.489458  , 15.618934  , 10.243545  ,\n",
       "       17.729885  , 14.490203  ,  9.603921  , 12.693094  ,  1.6691887 ,\n",
       "        1.8269966 , 13.0501175 , 19.650751  ,  0.29171526, 13.427341  ,\n",
       "       10.01599   , 19.652287  , 17.185242  ,  3.7343228 ,  7.6953115 ,\n",
       "       20.58159   ,  1.3734896 , 10.756455  ,  7.4805202 , 21.360569  ,\n",
       "       16.076542  , 16.833952  ,  2.7460113 , 22.324148  , 18.956867  ,\n",
       "       12.217415  , 12.802781  ,  9.376358  , 17.160063  , 17.188131  ,\n",
       "       11.194345  , 14.079295  , 10.67949   ,  5.5203648 ,  5.529849  ,\n",
       "       16.461843  , 17.863739  , 20.23814   , 14.79027   ,  2.679473  ,\n",
       "       14.777282  , 21.81201   ,  4.6056767 , 15.255314  , 20.63635   ,\n",
       "        0.57703114,  6.84879   , 13.182763  ,  1.9612001 ,  4.0993624 ,\n",
       "        2.9767513 ,  5.5545607 , 13.72493   , 13.077141  , 19.243565  ,\n",
       "       17.147127  , 18.64464   ,  3.992344  , 10.6961    , 22.504097  ,\n",
       "        3.1516242 ,  2.1038074 , 15.839993  ,  2.4353147 , 11.723795  ,\n",
       "       15.327418  ,  6.550105  , 19.84798   ,  6.5309043 , 10.435145  ,\n",
       "        1.6890696 , 21.481342  , 17.241558  , 13.376278  , 16.755465  ,\n",
       "        8.566792  , 10.356933  ,  7.752596  , 13.057608  , 13.353661  ,\n",
       "       18.335402  , 13.31765   , 20.18774   , 20.546345  ,  4.369124  ,\n",
       "        1.8309119 , 21.144522  ,  7.131948  ,  7.1259766 ,  1.5535555 ,\n",
       "       10.213607  ,  3.1702852 , 22.788155  , 17.072687  ,  5.5136995 ,\n",
       "       16.397455  ,  3.7941518 ,  6.813728  ,  7.4341288 , 13.3276    ,\n",
       "       21.244225  , 17.319706  ,  5.8462706 ,  4.5729423 , 16.973463  ,\n",
       "       22.048738  ,  4.0962725 ,  9.730511  ,  6.9254045 , 18.800356  ,\n",
       "        3.73004   ,  6.613348  ,  2.3584642 , 19.822954  , 21.18886   ,\n",
       "       18.085678  , 17.981659  ,  1.036858  ,  4.04984   , 15.044438  ,\n",
       "       13.211475  ,  5.794165  , 14.131577  ,  9.734075  ,  3.8888378 ,\n",
       "        8.187209  ,  4.098759  , 13.482824  , 20.74507   , 11.569066  ,\n",
       "       18.57146   , 10.860412  , 13.096029  , 12.723285  , 10.257018  ,\n",
       "       15.506961  , 22.223501  , 17.493402  , 16.570406  ,  8.429462  ,\n",
       "        5.9454885 , 15.730744  ,  2.8837903 , 16.874079  ,  3.4158363 ,\n",
       "        7.864166  , 20.92139   ,  9.993099  , 18.579445  , 14.753902  ,\n",
       "        1.3385617 ,  0.47582257,  3.7105567 , 11.157131  , 17.621778  ,\n",
       "        0.13293684, 17.180845  , 10.897001  ,  5.4065714 ,  1.0544357 ,\n",
       "       14.056969  , 14.475551  , 14.947428  , 12.003578  , 13.037327  ,\n",
       "       17.211613  , 12.0705385 ,  1.6870654 , 10.46507   , 13.02821   ,\n",
       "       21.86986   , 12.829047  ,  1.9745747 ,  5.0569105 ,  8.758049  ,\n",
       "        9.264097  , 21.955364  ,  3.1112456 , 18.185928  ,  0.58307135,\n",
       "        1.3308215 , 12.042281  ,  5.540454  , 11.81053   , 22.165487  ,\n",
       "       17.379328  ,  8.006356  ,  0.15196502, 11.870361  , 16.915154  ,\n",
       "       10.676351  , 12.352701  ,  0.7789383 ,  7.1964874 ,  7.7259183 ,\n",
       "       15.297815  ,  3.1557508 ,  4.41106   , 11.421581  , 12.195264  ,\n",
       "       14.99207   ,  2.640934  ,  3.825902  , 22.057856  , 20.688341  ,\n",
       "       15.115215  , 17.11527   , 13.020136  , 21.753424  ,  1.9450262 ,\n",
       "        4.098836  , 19.647835  , 20.813356  , 19.337614  ,  6.848209  ,\n",
       "       15.580746  , 10.192026  ,  5.593193  , 11.957146  , 19.737335  ,\n",
       "        1.5678184 ,  6.9763584 ,  3.591085  ,  7.0881257 , 19.208418  ,\n",
       "        5.915559  , 19.776455  ,  6.565281  , 19.455698  , 14.537475  ,\n",
       "       16.126745  , 19.763737  ,  2.0623841 , 20.720806  ,  3.7639782 ,\n",
       "        4.3507156 ,  8.438326  , 17.08171   ,  7.8320074 , 15.040813  ,\n",
       "       22.292263  , 14.532764  , 18.719889  ,  8.091418  , 17.412468  ,\n",
       "       17.032305  , 20.15391   , 17.598118  , 11.29412   , 22.560446  ,\n",
       "       12.085616  ,  5.628132  ,  0.6869614 , 12.342209  , 12.643167  ,\n",
       "        4.3589163 , 18.29488   , 22.373978  ,  7.583122  , 15.574104  ,\n",
       "        7.444345  , 14.01026   , 13.639232  ,  5.947531  , 22.564354  ],      dtype=float32)"
      ]
     },
     "execution_count": 7,
     "metadata": {},
     "output_type": "execute_result"
    }
   ],
   "source": [
    "jax.vmap(lambda d: d.experiment.time)(data)"
   ]
  },
  {
   "cell_type": "code",
   "execution_count": null,
   "metadata": {},
   "outputs": [],
   "source": [
    "# Steps to do :\n",
    "# Receives the data. Take the experiment and the outcome\n",
    "# For each experiment, compute the probability of 0 or 1.\n",
    "# Select the outcome with the outcome from data\n",
    "# take the log lkl of this. (or compute first the log lkl and then select it does not matter)\n",
    "# do everything with vmap and sum everything. Put the minus sign.\n",
    "\n",
    "# For the lkl of an experiment.\n",
    "# Receive the parameters. Split the hamiltonian and the dissipator\n",
    "# Built the hamiltonian with the traceless shit whatever.\n",
    "# Build the dissipator with the generators.\n",
    "# Construct the full lindbladian\n",
    "# Evolve the initial state given the experiment\n",
    "# compute the probability given the measurement chosen.\n",
    "# Return the number.\n"
   ]
  },
  {
   "cell_type": "code",
   "execution_count": null,
   "metadata": {},
   "outputs": [],
   "source": [
    "from some_functions import (\n",
    "    _make_dissipator,\n",
    "    _make_superop_hamiltonian,\n",
    "    _Pauli_dissipators_array,\n",
    "    generate_hamiltonian_one_qubit,\n",
    "    generate_hermitian_matrix,\n",
    "    generators_hermitian_3d_matrices,\n",
    "    generators_traceless_hermitian,\n",
    ")\n",
    "\n",
    "\n",
    "def generate_complete_lindbladian(parameters_hamiltonian, parameters_dissipator):\n",
    "    hamiltonian = generate_hamiltonian_one_qubit(\n",
    "        parameters_hamiltonian, generators_traceless_hermitian\n",
    "    )\n",
    "    lindblad_matrix = generate_hermitian_matrix(\n",
    "        parameters_dissipator, generators_hermitian_3d_matrices\n",
    "    )\n",
    "\n",
    "    hamiltonian_superop = _make_superop_hamiltonian(hamiltonian)\n",
    "    dissipator_superop = _make_dissipator(lindblad_matrix, _Pauli_dissipators_array)\n",
    "    lindbladian = hamiltonian_superop + dissipator_superop\n",
    "    return lindbladian\n"
   ]
  },
  {
   "cell_type": "code",
   "execution_count": null,
   "metadata": {},
   "outputs": [],
   "source": [
    "[\n",
    "    qu.basis(2, 0),\n",
    "    qu.basis(2, 1),\n",
    "    (qu.basis(2, 0) + qu.basis(2, 1)).unit(),\n",
    "    (qu.basis(2, 0) + 1j * qu.basis(2, 1)).unit(),\n",
    "]"
   ]
  },
  {
   "cell_type": "code",
   "execution_count": 64,
   "metadata": {},
   "outputs": [],
   "source": [
    "_set_of_initial_states_super = jnp.array(\n",
    "    [\n",
    "        qu.ket2dm(ket).full().flatten()\n",
    "        for ket in [\n",
    "            qu.basis(2, 0),\n",
    "            qu.basis(2, 1),\n",
    "            (qu.basis(2, 0) + qu.basis(2, 1)).unit(),\n",
    "            (qu.basis(2, 0) + 1j * qu.basis(2, 1)).unit(),\n",
    "        ]\n",
    "    ]\n",
    ")"
   ]
  },
  {
   "cell_type": "code",
   "execution_count": 39,
   "metadata": {},
   "outputs": [],
   "source": [
    "ex_rho0 = data[5].experiment.initial_state.squeeze()\n",
    "ex_povm = data[5].experiment.measurement_basis.squeeze()\n",
    "ex_outcome = data[5].outcome.squeeze()"
   ]
  },
  {
   "cell_type": "code",
   "execution_count": 24,
   "metadata": {},
   "outputs": [],
   "source": [
    "from some_functions import pauli_projective_povm"
   ]
  },
  {
   "cell_type": "code",
   "execution_count": 43,
   "metadata": {},
   "outputs": [
    {
     "data": {
      "text/plain": [
       "Array(2.8279095, dtype=float32)"
      ]
     },
     "execution_count": 43,
     "metadata": {},
     "output_type": "execute_result"
    }
   ],
   "source": [
    "data[3].experiment.time.squeeze()"
   ]
  },
  {
   "cell_type": "code",
   "execution_count": 31,
   "metadata": {},
   "outputs": [
    {
     "data": {
      "text/plain": [
       "(3, 2, 2, 2)"
      ]
     },
     "execution_count": 31,
     "metadata": {},
     "output_type": "execute_result"
    }
   ],
   "source": [
    "pauli_projective_povm.shape"
   ]
  },
  {
   "cell_type": "code",
   "execution_count": 62,
   "metadata": {},
   "outputs": [],
   "source": [
    "pauli_projective_povm_super = jnp.array(\n",
    "    [a.flatten() for a in pauli_projective_povm.reshape(6, 2, 2)]\n",
    ").reshape(-1, 2, 4)\n"
   ]
  },
  {
   "cell_type": "code",
   "execution_count": 63,
   "metadata": {},
   "outputs": [
    {
     "data": {
      "text/plain": [
       "Array([[[ 0.5+0.j ,  0.5+0.j ,  0.5+0.j ,  0.5+0.j ],\n",
       "        [ 0.5+0.j , -0.5+0.j , -0.5+0.j ,  0.5+0.j ]],\n",
       "\n",
       "       [[ 0.5+0.j ,  0. -0.5j,  0. +0.5j,  0.5+0.j ],\n",
       "        [ 0.5+0.j ,  0. +0.5j,  0. -0.5j,  0.5+0.j ]],\n",
       "\n",
       "       [[ 1. +0.j ,  0. +0.j ,  0. +0.j ,  0. +0.j ],\n",
       "        [ 0. +0.j ,  0. +0.j ,  0. +0.j ,  1. +0.j ]]], dtype=complex64)"
      ]
     },
     "execution_count": 63,
     "metadata": {},
     "output_type": "execute_result"
    }
   ],
   "source": [
    "pauli_projective_povm_super"
   ]
  },
  {
   "cell_type": "code",
   "execution_count": 41,
   "metadata": {},
   "outputs": [
    {
     "data": {
      "text/plain": [
       "(2, 2)"
      ]
     },
     "execution_count": 41,
     "metadata": {},
     "output_type": "execute_result"
    }
   ],
   "source": [
    "pauli_projective_povm[ex_povm][ex_outcome].shape"
   ]
  },
  {
   "cell_type": "code",
   "execution_count": 22,
   "metadata": {},
   "outputs": [
    {
     "data": {
      "text/plain": [
       "Array([[0.+0.j, 0.+0.j, 0.+0.j, 1.+0.j]], dtype=complex64)"
      ]
     },
     "execution_count": 22,
     "metadata": {},
     "output_type": "execute_result"
    }
   ],
   "source": [
    "from some_functions import compute_probability, evolve_state\n",
    "\n",
    "\n",
    "def likelihood_experiment(experiment, parameters):\n",
    "    initial_state_index = experiment.initial_state.squeeze()\n",
    "    measurement_basis_index = experiment.measurement_basis.squeeze()\n",
    "    time = experiment.time.squeeze()\n",
    "\n",
    "    initial_state_super = _set_of_initial_states_super[initial_state_index]\n",
    "    povm_super = pauli_projective_povm_super[measurement_basis_index]\n",
    "\n",
    "    lindbladian = generate_complete_lindbladian(\n",
    "        parameters.hamiltonian_pars, parameters.dissipator_pars\n",
    "    )\n",
    "\n",
    "    evolved_initial_state_super = evolve_state(lindbladian, time, initial_state_super)\n",
    "\n",
    "    probabilities_outcomes_basis = compute_probability(\n",
    "        evolved_initial_state_super, povm_super\n",
    "    )\n",
    "    return probabilities_outcomes_basis\n"
   ]
  },
  {
   "cell_type": "code",
   "execution_count": null,
   "metadata": {},
   "outputs": [],
   "source": [
    "def likelihood_data(data, parameters):\n",
    "    experiment = data.experiment\n",
    "    outcome = data.outcome.squeeze()\n",
    "    probability_outcome = likelihood_experiment(experiment, parameters)[outcome]\n",
    "    return probability_outcome\n",
    "\n",
    "\n",
    "def neg_log_likelihood_data(data, parameters):\n",
    "    minus_log_lkl = -1 * jnp.log(likelihood_data(data, parameters))\n",
    "    return minus_log_lkl\n"
   ]
  },
  {
   "cell_type": "code",
   "execution_count": null,
   "metadata": {},
   "outputs": [],
   "source": [
    "def negative_likelihood_data(data, parameters):\n",
    "    experiment = data.experiment\n",
    "    outcome = data.outcome\n",
    "\n",
    "    log_lkl_data = jax.vmap(_log_lkl_experiment)(data, parameters)\n"
   ]
  }
 ],
 "metadata": {
  "kernelspec": {
   "display_name": "jax-gr",
   "language": "python",
   "name": "python3"
  },
  "language_info": {
   "codemirror_mode": {
    "name": "ipython",
    "version": 3
   },
   "file_extension": ".py",
   "mimetype": "text/x-python",
   "name": "python",
   "nbconvert_exporter": "python",
   "pygments_lexer": "ipython3",
   "version": "3.12.6"
  }
 },
 "nbformat": 4,
 "nbformat_minor": 2
}
